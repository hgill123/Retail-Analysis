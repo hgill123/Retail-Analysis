{
 "cells": [
  {
   "cell_type": "markdown",
   "metadata": {},
   "source": [
    "# 2021 Retail Data Analysis"
   ]
  },
  {
   "cell_type": "markdown",
   "metadata": {},
   "source": [
    "### Harrison Gill"
   ]
  },
  {
   "cell_type": "markdown",
   "metadata": {},
   "source": [
    "#### August 3, 2020"
   ]
  },
  {
   "cell_type": "code",
   "execution_count": 771,
   "metadata": {},
   "outputs": [],
   "source": [
    "#Import necessary packages\n",
    "import pandas as pd\n",
    "from pandas import Series\n",
    "import numpy as np\n",
    "import itertools\n",
    "from matplotlib import pyplot as plt\n",
    "from sklearn.linear_model import LinearRegression\n",
    "from sklearn import linear_model\n",
    "from sklearn.metrics import r2_score, mean_squared_error\n",
    "from scipy import stats\n",
    "from math import sqrt\n",
    "from statsmodels.tsa.seasonal import seasonal_decompose\n",
    "import seaborn as sns"
   ]
  },
  {
   "cell_type": "code",
   "execution_count": 772,
   "metadata": {},
   "outputs": [
    {
     "data": {
      "text/html": [
       "<div>\n",
       "<style scoped>\n",
       "    .dataframe tbody tr th:only-of-type {\n",
       "        vertical-align: middle;\n",
       "    }\n",
       "\n",
       "    .dataframe tbody tr th {\n",
       "        vertical-align: top;\n",
       "    }\n",
       "\n",
       "    .dataframe thead th {\n",
       "        text-align: right;\n",
       "    }\n",
       "</style>\n",
       "<table border=\"1\" class=\"dataframe\">\n",
       "  <thead>\n",
       "    <tr style=\"text-align: right;\">\n",
       "      <th></th>\n",
       "      <th>Location number</th>\n",
       "      <th>Month</th>\n",
       "      <th>State</th>\n",
       "      <th>Gross revenue</th>\n",
       "      <th>Fixed cost</th>\n",
       "      <th>Variable cost</th>\n",
       "      <th>Rental cost</th>\n",
       "      <th>Number of products</th>\n",
       "      <th>Owned</th>\n",
       "    </tr>\n",
       "  </thead>\n",
       "  <tbody>\n",
       "    <tr>\n",
       "      <th>0</th>\n",
       "      <td>1</td>\n",
       "      <td>1</td>\n",
       "      <td>TX</td>\n",
       "      <td>48628171.02</td>\n",
       "      <td>9218156.69</td>\n",
       "      <td>24278189.23</td>\n",
       "      <td>365880</td>\n",
       "      <td>4452</td>\n",
       "      <td>False</td>\n",
       "    </tr>\n",
       "    <tr>\n",
       "      <th>1</th>\n",
       "      <td>1</td>\n",
       "      <td>2</td>\n",
       "      <td>TX</td>\n",
       "      <td>48107179.24</td>\n",
       "      <td>10587747.35</td>\n",
       "      <td>25116844.41</td>\n",
       "      <td>365880</td>\n",
       "      <td>4452</td>\n",
       "      <td>False</td>\n",
       "    </tr>\n",
       "    <tr>\n",
       "      <th>2</th>\n",
       "      <td>1</td>\n",
       "      <td>3</td>\n",
       "      <td>TX</td>\n",
       "      <td>64352278.29</td>\n",
       "      <td>10193873.77</td>\n",
       "      <td>33703499.83</td>\n",
       "      <td>365880</td>\n",
       "      <td>4452</td>\n",
       "      <td>False</td>\n",
       "    </tr>\n",
       "    <tr>\n",
       "      <th>3</th>\n",
       "      <td>1</td>\n",
       "      <td>4</td>\n",
       "      <td>TX</td>\n",
       "      <td>45943677.96</td>\n",
       "      <td>8764165.00</td>\n",
       "      <td>24037719.47</td>\n",
       "      <td>365880</td>\n",
       "      <td>4452</td>\n",
       "      <td>False</td>\n",
       "    </tr>\n",
       "    <tr>\n",
       "      <th>4</th>\n",
       "      <td>1</td>\n",
       "      <td>5</td>\n",
       "      <td>TX</td>\n",
       "      <td>32761434.98</td>\n",
       "      <td>8022116.43</td>\n",
       "      <td>16432119.18</td>\n",
       "      <td>365880</td>\n",
       "      <td>4452</td>\n",
       "      <td>False</td>\n",
       "    </tr>\n",
       "  </tbody>\n",
       "</table>\n",
       "</div>"
      ],
      "text/plain": [
       "   Location number  Month State  Gross revenue   Fixed cost  Variable cost  \\\n",
       "0                1      1    TX    48628171.02   9218156.69    24278189.23   \n",
       "1                1      2    TX    48107179.24  10587747.35    25116844.41   \n",
       "2                1      3    TX    64352278.29  10193873.77    33703499.83   \n",
       "3                1      4    TX    45943677.96   8764165.00    24037719.47   \n",
       "4                1      5    TX    32761434.98   8022116.43    16432119.18   \n",
       "\n",
       "   Rental cost  Number of products  Owned  \n",
       "0       365880                4452  False  \n",
       "1       365880                4452  False  \n",
       "2       365880                4452  False  \n",
       "3       365880                4452  False  \n",
       "4       365880                4452  False  "
      ]
     },
     "execution_count": 772,
     "metadata": {},
     "output_type": "execute_result"
    }
   ],
   "source": [
    "stores = pd.read_csv(\"/Users/harrisonsgill/Documents/Job/Blackstone/undergrad_takehome_2020.csv\")\n",
    "#View schema of data\n",
    "stores.head()"
   ]
  },
  {
   "cell_type": "code",
   "execution_count": 773,
   "metadata": {},
   "outputs": [
    {
     "data": {
      "text/plain": [
       "Location number       0\n",
       "Month                 0\n",
       "State                 0\n",
       "Gross revenue         0\n",
       "Fixed cost            0\n",
       "Variable cost         0\n",
       "Rental cost           0\n",
       "Number of products    0\n",
       "Owned                 0\n",
       "dtype: int64"
      ]
     },
     "execution_count": 773,
     "metadata": {},
     "output_type": "execute_result"
    }
   ],
   "source": [
    "#check to see if there are null values\n",
    "np.sum(pd.isnull(stores).head())"
   ]
  },
  {
   "cell_type": "markdown",
   "metadata": {},
   "source": [
    "We can see that there are no missing values."
   ]
  },
  {
   "cell_type": "markdown",
   "metadata": {},
   "source": [
    "### Note: We will be scaling financial statistics to be measured in millions for ease of interpretation"
   ]
  },
  {
   "cell_type": "code",
   "execution_count": 774,
   "metadata": {},
   "outputs": [],
   "source": [
    "stores['Gross revenue'] = stores['Gross revenue']/1000000\n",
    "stores['Fixed cost'] = stores['Fixed cost']/1000000\n",
    "stores['Variable cost'] = stores['Variable cost']/1000000\n",
    "stores['Rental cost'] = stores['Rental cost']/1000000"
   ]
  },
  {
   "cell_type": "markdown",
   "metadata": {},
   "source": [
    "## Part 1 - Summary Statistics and Plots"
   ]
  },
  {
   "cell_type": "markdown",
   "metadata": {},
   "source": [
    "### Mean & median annual profit margins and distribution"
   ]
  },
  {
   "cell_type": "code",
   "execution_count": 775,
   "metadata": {},
   "outputs": [],
   "source": [
    "#Create a data column with profit for each store\n",
    "stores['profit'] = stores['Gross revenue'] - stores['Fixed cost']-stores['Variable cost'] - stores['Rental cost']"
   ]
  },
  {
   "cell_type": "markdown",
   "metadata": {},
   "source": [
    "We must take in our data matrix and returns two vector: total profit, which contains\n",
    "the annual total profit for each store location, and total revenue, which contains total annual revenue for each store. From there, we can divide them to get annual profit margin for each location."
   ]
  },
  {
   "cell_type": "code",
   "execution_count": 776,
   "metadata": {},
   "outputs": [],
   "source": [
    "#create empty vectors to store annual values of profit and revenue\n",
    "prof_list = []\n",
    "rev_list = []\n",
    "#sum up the annual profit and revenue for each store over the twelve months\n",
    "for i in range(int(stores['Location number'].max())):\n",
    "    prof_list.append(sum(stores[stores['Location number']==i+1]['profit']))\n",
    "    rev_list.append(sum(stores[stores['Location number']==i+1]['Gross revenue']))"
   ]
  },
  {
   "cell_type": "markdown",
   "metadata": {},
   "source": [
    "Solve for profit margin from profit and revenue"
   ]
  },
  {
   "cell_type": "code",
   "execution_count": 777,
   "metadata": {},
   "outputs": [],
   "source": [
    "#Convert datatype to NumPy array\n",
    "np_prof_list = np.asarray(prof_list)\n",
    "np_rev_list = np.asarray(rev_list)\n",
    "#Calculate Profit Margin\n",
    "annual_profit_margin = (np_prof_list/np_rev_list)*100"
   ]
  },
  {
   "cell_type": "markdown",
   "metadata": {},
   "source": [
    "Store profit margins for each store in main dataframe"
   ]
  },
  {
   "cell_type": "code",
   "execution_count": 778,
   "metadata": {
    "scrolled": true
   },
   "outputs": [],
   "source": [
    "stores['Profit margin'] = list(itertools.chain.from_iterable(itertools.repeat(x, 12) for x in annual_profit_margin))"
   ]
  },
  {
   "cell_type": "markdown",
   "metadata": {},
   "source": [
    "Note that if the dataset were much larger (>~2000 rows), I would not use the iterrows() functions, as it would be laborious computationally and vectorization would allow for quicker computation."
   ]
  },
  {
   "cell_type": "code",
   "execution_count": 779,
   "metadata": {},
   "outputs": [
    {
     "name": "stdout",
     "output_type": "stream",
     "text": [
      "Mean Profit Margin: 24.86x\n"
     ]
    }
   ],
   "source": [
    "mean_PM = np.mean(annual_profit_margin)\n",
    "print(f\"Mean Profit Margin: {round(mean_PM,2)}x\")"
   ]
  },
  {
   "cell_type": "code",
   "execution_count": 780,
   "metadata": {},
   "outputs": [
    {
     "name": "stdout",
     "output_type": "stream",
     "text": [
      "Median Profit Margin: 26.18x\n"
     ]
    }
   ],
   "source": [
    "median_PM = np.median(annual_profit_margin)\n",
    "print(f\"Median Profit Margin: {round(median_PM,2)}x\")"
   ]
  },
  {
   "cell_type": "markdown",
   "metadata": {},
   "source": [
    "### Plotting"
   ]
  },
  {
   "cell_type": "code",
   "execution_count": 781,
   "metadata": {},
   "outputs": [
    {
     "data": {
      "text/plain": [
       "Text(-12, 400, 'Frequency')"
      ]
     },
     "execution_count": 781,
     "metadata": {},
     "output_type": "execute_result"
    },
    {
     "data": {
      "image/png": "[encoded data removed]",
      "text/plain": [
       "<Figure size 432x288 with 1 Axes>"
      ]
     },
     "metadata": {
      "needs_background": "light"
     },
     "output_type": "display_data"
    }
   ],
   "source": [
    "stores['Profit margin'].hist(bins=20, alpha=0.7, grid=False)\n",
    "plt.suptitle('Profit Margin Distribution')\n",
    "plt.text(20, -100, 'Profit Margin', ha='center')\n",
    "plt.text(-12, 400, 'Frequency', ha='center')"
   ]
  },
  {
   "cell_type": "code",
   "execution_count": 782,
   "metadata": {},
   "outputs": [
    {
     "name": "stdout",
     "output_type": "stream",
     "text": [
      "The quartiles of Gross Revenue ($mm):\n",
      " 0.05    11.028885\n",
      "0.25    18.828098\n",
      "0.50    26.314156\n",
      "0.75    37.271729\n",
      "0.95    63.546547\n",
      "Name: Gross revenue, dtype: float64\n"
     ]
    }
   ],
   "source": [
    "quantiles = stores['Gross revenue'].quantile([.05,.25,.5,.75,.95])\n",
    "print(\"The quartiles of Gross Revenue ($mm):\\n\",quantiles)"
   ]
  },
  {
   "cell_type": "code",
   "execution_count": 783,
   "metadata": {},
   "outputs": [
    {
     "name": "stdout",
     "output_type": "stream",
     "text": [
      "Difference between mean and median profit margin is $-1.32 mm\n"
     ]
    }
   ],
   "source": [
    "skew_test = mean_PM - median_PM\n",
    "print(f'Difference between mean and median profit margin is ${round(skew_test,2)} mm')"
   ]
  },
  {
   "cell_type": "markdown",
   "metadata": {},
   "source": [
    "We can see from the histogram plot that the data is not normally distributed, but rather left\n",
    "skewed because of the tail on its left side. As supported by the quantile() function, it is clear that the first\n",
    "quartile is much larger than fourth, and the second quartile is larger than the third. \n",
    "\n",
    "We can also see that the mean is significantly less than the median, indicating left skewed. This could be attributed to the fact that many stores, who underperformed the median, signficantly underperformed relative to the mean."
   ]
  },
  {
   "cell_type": "markdown",
   "metadata": {},
   "source": [
    "### Montly and Quarterly Aggregate Revenue"
   ]
  },
  {
   "cell_type": "code",
   "execution_count": 784,
   "metadata": {},
   "outputs": [],
   "source": [
    "month_revenue = []\n",
    "for i in range(12):\n",
    "    month_revenue.append(sum(stores[stores['Month']==i+1]['Gross revenue']))"
   ]
  },
  {
   "cell_type": "code",
   "execution_count": 785,
   "metadata": {
    "scrolled": true
   },
   "outputs": [
    {
     "data": {
      "image/png": "[encoded data removed]",
      "text/plain": [
       "<Figure size 432x288 with 1 Axes>"
      ]
     },
     "metadata": {
      "needs_background": "light"
     },
     "output_type": "display_data"
    }
   ],
   "source": [
    "fig = plt.figure()\n",
    "ax = fig.add_axes([0,0,1,1])\n",
    "months = [\"Jan\", \"Feb\",\"Mar\", \"Apr\", \"May\", \"Jun\", \"Jul\", \"Aug\", \"Sept\", \"Oct\", \"Nov\", \"Dec\"]\n",
    "ax.bar(months,month_revenue)\n",
    "ax.set_ylabel('Monthly Revenue ($mm)')\n",
    "ax.set_xlabel('Month')\n",
    "ax.set_title('Monthly Gross Revenue')\n",
    "plt.show()"
   ]
  },
  {
   "cell_type": "markdown",
   "metadata": {},
   "source": [
    "We can begin to identify seasonal patterns in Gross Revenue, though in order to further compare these differences, a graph standardize by subtracting the average monthly revenue is below."
   ]
  },
  {
   "cell_type": "code",
   "execution_count": 786,
   "metadata": {},
   "outputs": [
    {
     "data": {
      "image/png": "[encoded data removed]",
      "text/plain": [
       "<Figure size 432x288 with 1 Axes>"
      ]
     },
     "metadata": {
      "needs_background": "light"
     },
     "output_type": "display_data"
    }
   ],
   "source": [
    "avg_revenue = np.asarray(month_revenue).mean()\n",
    "\n",
    "fig = plt.figure()\n",
    "ax = fig.add_axes([0,0,1,1])\n",
    "months = [\"Jan\", \"Feb\",\"Mar\", \"Apr\", \"May\", \"Jun\", \"Jul\", \"Aug\", \"Sept\", \"Oct\", \"Nov\", \"Dec\"]\n",
    "ax.bar(months,month_revenue-avg_revenue)\n",
    "ax.set_ylabel('Monthly Revenue Relative to Average ($mm)')\n",
    "ax.set_xlabel('Month')\n",
    "ax.set_title('Monthly Gross Revenue Relative to Average')\n",
    "ax.axhline(y=0, color = \"red\", linestyle='dashed')\n",
    "plt.show()"
   ]
  },
  {
   "cell_type": "markdown",
   "metadata": {},
   "source": [
    "### Quarterly Aggregate Revenue"
   ]
  },
  {
   "cell_type": "code",
   "execution_count": 787,
   "metadata": {},
   "outputs": [],
   "source": [
    "quarterly_revenue = []\n",
    "for i in range(4):\n",
    "    quarterly_revenue.append(sum(stores[(stores['Month']<=3*(i+1)) \n",
    "                                    & (stores['Month'] > 3*i)]['Gross revenue']))"
   ]
  },
  {
   "cell_type": "code",
   "execution_count": 788,
   "metadata": {},
   "outputs": [
    {
     "data": {
      "image/png": "[encoded data removed]",
      "text/plain": [
       "<Figure size 432x288 with 1 Axes>"
      ]
     },
     "metadata": {
      "needs_background": "light"
     },
     "output_type": "display_data"
    }
   ],
   "source": [
    "fig = plt.figure()\n",
    "ax = fig.add_axes([0,0,1,1])\n",
    "quarters = ['Q1', 'Q2', 'Q3', 'Q4']\n",
    "ax.bar(quarters,quarterly_revenue)\n",
    "ax.set_ylabel('Quarterly Revenue ($mm)')\n",
    "ax.set_xlabel('Quarter')\n",
    "ax.set_title('Quarterly Gross Revenue')\n",
    "\n",
    "plt.show()"
   ]
  },
  {
   "cell_type": "markdown",
   "metadata": {},
   "source": [
    "Similar to our transformation for monthly revenue, we will standardize quarterly revenue figures to analyze differences more closely."
   ]
  },
  {
   "cell_type": "code",
   "execution_count": 789,
   "metadata": {
    "scrolled": true
   },
   "outputs": [
    {
     "data": {
      "image/png": "[encoded data removed]",
      "text/plain": [
       "<Figure size 432x288 with 1 Axes>"
      ]
     },
     "metadata": {
      "needs_background": "light"
     },
     "output_type": "display_data"
    }
   ],
   "source": [
    "avg_revenue = np.asarray(quarterly_revenue).mean()\n",
    "fig = plt.figure()\n",
    "ax = fig.add_axes([0,0,1,1])\n",
    "quarters = ['Q1', 'Q2', 'Q3', 'Q4']\n",
    "ax.bar(quarters,quarterly_revenue-avg_revenue)\n",
    "ax.set_ylabel('Quarterly Revenue Relative to Average ($mm)')\n",
    "ax.set_xlabel('Quarter')\n",
    "ax.set_title('Quarterly Gross Revenue Relative to Average')\n",
    "ax.axhline(y=0, color = \"red\", linestyle='dashed')\n",
    "plt.show()"
   ]
  },
  {
   "cell_type": "markdown",
   "metadata": {},
   "source": [
    "There is clearly seasonal fluctuation between months as well as seasons. \n",
    "\n",
    "* $\\textbf{Monthly}$: the revenue appears to be cylical, reaching higher values in March, June, September, and December; though decreasing in the month after each of these\n",
    "\n",
    "* $\\textbf{Quarterly}$: Q1 represents the largest segment, while Q2, Q3, and Q4 have significantly less sales"
   ]
  },
  {
   "cell_type": "markdown",
   "metadata": {},
   "source": [
    "## Part 2 - Cleaning the Data"
   ]
  },
  {
   "cell_type": "markdown",
   "metadata": {},
   "source": [
    "To determine an \"appropriate rental cost\" for those buildings that are owned, I used the mean lease cost as a proxy for rental cost, and impute this value into the Rental Cost for stores which previously had no Rental Cost."
   ]
  },
  {
   "cell_type": "code",
   "execution_count": 790,
   "metadata": {},
   "outputs": [
    {
     "name": "stdout",
     "output_type": "stream",
     "text": [
      "Monthly average rent: $165627.0\n"
     ]
    }
   ],
   "source": [
    "#Calculate the average monthly rent paid by stores that are not owned\n",
    "monthly_average_rent = stores[stores['Owned']==0]['Rental cost'].mean()\n",
    "print(f\"Monthly average rent: ${round(monthly_average_rent,6)*1000000}\")"
   ]
  },
  {
   "cell_type": "code",
   "execution_count": 791,
   "metadata": {
    "scrolled": true
   },
   "outputs": [],
   "source": [
    "#Impute this monthly average for each store that is Owned\n",
    "stores['Rental cost'] = np.where(stores['Owned'] == 1, monthly_average_rent, stores['Rental cost'])"
   ]
  },
  {
   "cell_type": "code",
   "execution_count": 792,
   "metadata": {},
   "outputs": [],
   "source": [
    "#Update the profit for each store\n",
    "stores['profit'] = stores['Gross revenue'] - stores['Fixed cost']-stores['Variable cost'] - stores['Rental cost']"
   ]
  },
  {
   "cell_type": "markdown",
   "metadata": {},
   "source": [
    "#### Recalculate the rent-adjusted profit margins"
   ]
  },
  {
   "cell_type": "code",
   "execution_count": 793,
   "metadata": {},
   "outputs": [],
   "source": [
    "prof_list = []\n",
    "rev_list = []\n",
    "#sum up the annual profit\n",
    "for i in range(int(stores['Location number'].max())):\n",
    "    prof_list.append(sum(stores[stores['Location number']==i+1]['profit']))\n",
    "    rev_list.append(sum(stores[stores['Location number']==i+1]['Gross revenue']))\n",
    "np_prof_list = np.asarray(prof_list)\n",
    "np_rev_list = np.asarray(rev_list)\n",
    "annual_profit_margin = (np_prof_list/np_rev_list)*100"
   ]
  },
  {
   "cell_type": "code",
   "execution_count": 794,
   "metadata": {
    "scrolled": true
   },
   "outputs": [],
   "source": [
    "stores['Profit margin'] = list(itertools.chain.from_iterable(itertools.repeat(x, 12) for x in annual_profit_margin))"
   ]
  },
  {
   "cell_type": "code",
   "execution_count": 795,
   "metadata": {},
   "outputs": [
    {
     "name": "stdout",
     "output_type": "stream",
     "text": [
      "Rent-adjusted Mean Profit Margin: 24.81x\n",
      "Rent-adjusted Median Profit Margin: 26.18x\n"
     ]
    }
   ],
   "source": [
    "mean_PM = np.mean(annual_profit_margin)\n",
    "print(f\"Rent-adjusted Mean Profit Margin: {round(mean_PM,2)}x\")\n",
    "mean_PM = np.median(annual_profit_margin)\n",
    "print(f\"Rent-adjusted Median Profit Margin: {round(median_PM,2)}x\")"
   ]
  },
  {
   "cell_type": "markdown",
   "metadata": {},
   "source": [
    "## Part 3 - Quantify Drivers of Success"
   ]
  },
  {
   "cell_type": "markdown",
   "metadata": {},
   "source": [
    "In this stage, we will identify factors that have led to outperformance across locations, analyzing how profit margin varies with our variables. Specifically, we will focus more on how Profit Margin relates to our categorical variables: State, Ownernship status, and Month. This is because these factor could uncover trends to accelerate growth in stores other than more obvious modes. For example, it is self-evident that increases in revenue or decreases in costs will boost profit margins. Having said that, there are likely dependencies and interaction between our categorical and continuous variables, so we will attempt to identify which of these metrics are driving success."
   ]
  },
  {
   "cell_type": "markdown",
   "metadata": {},
   "source": [
    "### First we will analyze the relationship between Profit Margin and the State in which stores operate"
   ]
  },
  {
   "cell_type": "code",
   "execution_count": 796,
   "metadata": {
    "scrolled": true
   },
   "outputs": [
    {
     "data": {
      "image/png": "[encoded data removed]",
      "text/plain": [
       "<Figure size 432x288 with 1 Axes>"
      ]
     },
     "metadata": {
      "needs_background": "light"
     },
     "output_type": "display_data"
    }
   ],
   "source": [
    "graph = sns.boxplot(y='Profit margin', x='State',data=stores)\n",
    "graph.axhline(stores['Profit margin'].median(), color='red', linestyle='dashed')\n",
    "plt.title('Profit Margin by State')\n",
    "plt.show()"
   ]
  },
  {
   "cell_type": "markdown",
   "metadata": {},
   "source": [
    "We can see that there are certain states that underperformed the median annual profit margin (i.e. New Jersey and Georgia), while stores in Texas significantly outperformed stores in the other states.\n",
    "\n",
    "In order to determine why profit margins are higher in some states than others, we will evaluate revenue, variable cost, and number of products across different states."
   ]
  },
  {
   "cell_type": "code",
   "execution_count": 797,
   "metadata": {},
   "outputs": [
    {
     "data": {
      "image/png": "[encoded data removed]",
      "text/plain": [
       "<Figure size 432x288 with 1 Axes>"
      ]
     },
     "metadata": {
      "needs_background": "light"
     },
     "output_type": "display_data"
    }
   ],
   "source": [
    "graph = sns.boxplot(y='Gross revenue', x = 'State', data=stores)\n",
    "graph.axhline(stores['Gross revenue'].median(), color='red', linestyle='dashed')\n",
    "plt.title('Gross Revenue by State ($mm)')\n",
    "plt.show()"
   ]
  },
  {
   "cell_type": "code",
   "execution_count": 798,
   "metadata": {},
   "outputs": [
    {
     "data": {
      "image/png": "[encoded data removed]",
      "text/plain": [
       "<Figure size 432x288 with 1 Axes>"
      ]
     },
     "metadata": {
      "needs_background": "light"
     },
     "output_type": "display_data"
    }
   ],
   "source": [
    "stores['Total Costs']=stores['Gross revenue']-stores['profit']\n",
    "profit_graph = sns.boxplot(y='Variable cost', x = 'State', data=stores)\n",
    "profit_graph.axhline(stores['Variable cost'].median(), color='red', linestyle='dashed')\n",
    "plt.title('Variable Cost by State ($mm)')\n",
    "plt.show()"
   ]
  },
  {
   "cell_type": "markdown",
   "metadata": {},
   "source": [
    "#### Note that Number of products by State and Number of products by Month were both visualized in a box plot, though not included because of lack of insight provided from analysis\n",
    "* For Number of products by month, there is no change in products month to month, which leads me to believe that this dataset did not track changes in store supply\n",
    "* For Number of products by State, there were no conclusive trends, as all states had roughly 4500 products offered in each month"
   ]
  },
  {
   "cell_type": "markdown",
   "metadata": {},
   "source": [
    "### Evaluation of monthly patterns in profit and costs"
   ]
  },
  {
   "cell_type": "code",
   "execution_count": 799,
   "metadata": {},
   "outputs": [
    {
     "data": {
      "image/png": "[encoded data removed]",
      "text/plain": [
       "<Figure size 432x288 with 1 Axes>"
      ]
     },
     "metadata": {
      "needs_background": "light"
     },
     "output_type": "display_data"
    }
   ],
   "source": [
    "profit_graph = sns.boxplot(y='profit', x = 'Month', data=stores)\n",
    "profit_graph.axhline(stores['profit'].median(), color='red', linestyle='dashed')\n",
    "plt.title('Profit by Month ($mm)')\n",
    "plt.xlabel([\"Jan\", \"Feb\",\"Mar\", \"Apr\", \"May\", \"Jun\", \"Jul\", \"Aug\", \"Sept\", \"Oct\", \"Nov\", \"Dec\"])\n",
    "plt.show()"
   ]
  },
  {
   "cell_type": "markdown",
   "metadata": {},
   "source": [
    "Note we are using Profit, instead of Profit Margin because the Profit Margin is a uniform annual measure, so exactly uniform across the year, while Profit varies from month to month. We have already analyzed Revenue by month in $\\textbf{Part 1}$, which followed a similar cyclical trend to the directly above graph. Therefore, we will be analyzing the variable cost per month next."
   ]
  },
  {
   "cell_type": "code",
   "execution_count": 800,
   "metadata": {},
   "outputs": [
    {
     "data": {
      "image/png": "[encoded data removed]",
      "text/plain": [
       "<Figure size 432x288 with 1 Axes>"
      ]
     },
     "metadata": {
      "needs_background": "light"
     },
     "output_type": "display_data"
    }
   ],
   "source": [
    "profit_graph = sns.boxplot(y='Variable cost', x = 'Month', data=stores)\n",
    "profit_graph.axhline(stores['Variable cost'].median(), color='red', linestyle='dashed')\n",
    "plt.title('Variable cost by Month ($mm)')\n",
    "plt.xlabel([\"Jan\", \"Feb\",\"Mar\", \"Apr\", \"May\", \"Jun\", \"Jul\", \"Aug\", \"Sept\", \"Oct\", \"Nov\", \"Dec\"])\n",
    "plt.show()"
   ]
  },
  {
   "cell_type": "markdown",
   "metadata": {},
   "source": [
    "As expected, variable cost rises in months where revenue is higher (more demand likely driving higher cost of goods sold and employee wages & hours worked). Revenue is signficantly higher than variable cost in months of strong performance, yielding higher profit."
   ]
  },
  {
   "cell_type": "markdown",
   "metadata": {},
   "source": [
    "### Evaluation of Ownership Impact on Profit Margin"
   ]
  },
  {
   "cell_type": "code",
   "execution_count": 801,
   "metadata": {},
   "outputs": [
    {
     "data": {
      "image/png": "[encoded data removed]",
      "text/plain": [
       "<Figure size 432x288 with 1 Axes>"
      ]
     },
     "metadata": {
      "needs_background": "light"
     },
     "output_type": "display_data"
    }
   ],
   "source": [
    "graph = sns.boxplot(y='Profit margin', x='State',data=stores, hue='Owned')\n",
    "graph.axhline(stores['Profit margin'].median(), color='red', linestyle='dashed')\n",
    "plt.title('Profit Margin by State with Ownership')\n",
    "plt.show()"
   ]
  },
  {
   "cell_type": "code",
   "execution_count": 802,
   "metadata": {},
   "outputs": [
    {
     "data": {
      "image/png": "[encoded data removed]",
      "text/plain": [
       "<Figure size 432x288 with 1 Axes>"
      ]
     },
     "metadata": {
      "needs_background": "light"
     },
     "output_type": "display_data"
    }
   ],
   "source": [
    "graph = sns.boxplot(y='profit', x='Month',data=stores, hue='Owned')\n",
    "graph.axhline(stores['profit'].median(), color='red', linestyle='dashed')\n",
    "plt.title('Profit Margin by Month with Ownership')\n",
    "plt.show()"
   ]
  },
  {
   "cell_type": "markdown",
   "metadata": {},
   "source": [
    "It is evident that across states, excluding Washington, that Profit Margins are higher for Owned Stores. Additionally, Profit Margins are higher in each month in stores that are owned. We must note that we made assumptions about the rental cost for those stores that may not be accurate. In future, asking owners of stores to report purchase price and date of purchase would allow us to calculate an approximate annual price paid for each store's \"ownership cost\" per month."
   ]
  },
  {
   "cell_type": "markdown",
   "metadata": {},
   "source": [
    "As was shown in the boxplot of Profit margin by state and ownership, it appears that owned stores have higher profit margins. We will perform an independent samples t-test to identify whether  there is a significant difference between the means of two groups (Owned vs. Non-owned)"
   ]
  },
  {
   "cell_type": "code",
   "execution_count": 803,
   "metadata": {},
   "outputs": [
    {
     "name": "stdout",
     "output_type": "stream",
     "text": [
      "We have a t-statistic of 17.3 and a P-value of 1.303060547235446e-56.\n"
     ]
    }
   ],
   "source": [
    "Owned_pm = stores[stores['Owned']==True]['Profit margin']\n",
    "Nonowned_pm = stores[stores['Owned']==False]['Profit margin']\n",
    "t_stat, pvalue = stats.ttest_ind(Owned_pm, Nonowned_pm,equal_var=False)\n",
    "print(f\"We have a t-statistic of {round(t_stat,2)} and a P-value of {pvalue}.\")"
   ]
  },
  {
   "cell_type": "markdown",
   "metadata": {},
   "source": [
    "This shows that there is a statistically signficant difference in profit margin between the owned and non-owned stores (P-value is less than signficance threshold of .05). Having said this, this large a t-statistic is concerningly high (and the corresponding p-value concerningly low), so further analysis should be done to determine the legitimacy of any conclusions drawn from this test."
   ]
  },
  {
   "cell_type": "markdown",
   "metadata": {},
   "source": [
    "### Other Analysis"
   ]
  },
  {
   "cell_type": "code",
   "execution_count": 805,
   "metadata": {},
   "outputs": [
    {
     "data": {
      "image/png": "[encoded data removed]",
      "text/plain": [
       "<Figure size 432x288 with 1 Axes>"
      ]
     },
     "metadata": {
      "needs_background": "light"
     },
     "output_type": "display_data"
    }
   ],
   "source": [
    "plot = plt.scatter(Products_ProfMarg['Number of products'], Products_ProfMarg['Profit margin'])\n",
    "plt.title('Profit Margin vs. Number of Products')\n",
    "plt.xlabel('Number of Products Offered')\n",
    "plt.ylabel('Annual Profit Margin')\n",
    "plt.show()"
   ]
  },
  {
   "cell_type": "code",
   "execution_count": 806,
   "metadata": {},
   "outputs": [
    {
     "name": "stdout",
     "output_type": "stream",
     "text": [
      "Correlation Matrix: \n",
      " [[1.         0.80855744]\n",
      " [0.80855744 1.        ]]\n",
      "\n",
      " R-Squared value:  0.6537651357799145\n"
     ]
    }
   ],
   "source": [
    "corr_mat = np.corrcoef(stores['Number of products'], Products_ProfMarg['Profit margin'])\n",
    "print(\"Correlation Matrix: \\n\", corr_mat)\n",
    "r_squared = (correlation_matrix[0,1])**2\n",
    "print(\"\\n R-Squared value: \",r_squared)"
   ]
  },
  {
   "cell_type": "markdown",
   "metadata": {},
   "source": [
    "It is evident from the scatter plot that there is a correlation between profit margin and number of products. Here we computed $\\text{R}^2=\\text{Correlation}_{x,y}^2$. The value of adjusted R-squared is 0.6537. This means that about 65% of the profit margin can be predicted solely from the input number of products. This value does not imply causality though, and it may be the case that stores with higher margins have the means to supply their stores with more products."
   ]
  },
  {
   "cell_type": "markdown",
   "metadata": {},
   "source": [
    "### Linear Models"
   ]
  },
  {
   "cell_type": "markdown",
   "metadata": {},
   "source": [
    "Here we will be splitting the data into a known subset and an unknown subset to train our linear model on and then test on to see how the models perform. Further research could be conducted with machine learning and neural network models using this set up."
   ]
  },
  {
   "cell_type": "code",
   "execution_count": 807,
   "metadata": {},
   "outputs": [],
   "source": [
    "percent_split = .75\n",
    "split_num = int(12*333*percent_split)\n",
    "stores_known = stores.iloc[:split_num, :]\n",
    "stores_unknown =stores.iloc[split_num+1:, :]"
   ]
  },
  {
   "cell_type": "code",
   "execution_count": 808,
   "metadata": {},
   "outputs": [
    {
     "name": "stdout",
     "output_type": "stream",
     "text": [
      "Intercept: -141.63105187847543\n",
      "Coefficients: [0.03689667]\n",
      "Mean Squared Error: 11.807764103662796\n"
     ]
    },
    {
     "data": {
      "image/png": "[encoded data removed]",
      "text/plain": [
       "<Figure size 432x288 with 1 Axes>"
      ]
     },
     "metadata": {
      "needs_background": "light"
     },
     "output_type": "display_data"
    }
   ],
   "source": [
    "#Using sklearn, we can construct a linear model of how profit margin can be predicted using other variables\n",
    "XTrain = stores[['Number of products']]\n",
    "XTest = stores_unknown[['Number of products']]\n",
    "YTrain = stores['Profit margin']\n",
    "YTest = stores_unknown['Profit margin']\n",
    "model = linear_model.LinearRegression()\n",
    "model.fit(XTrain, YTrain)\n",
    "print('Intercept:', model.intercept_)\n",
    "print('Coefficients:', model.coef_)\n",
    "YPred = model.predict(XTest)\n",
    "print('Mean Squared Error:', mean_squared_error(YTest, YPred)) \n",
    "plt.scatter(XTest, YTest)\n",
    "plt.plot(XTest, YPred, color='blue', linewidth=2)\n",
    "plt.xlabel('Number of Products')\n",
    "plt.ylabel('Profit Margin')\n",
    "plt.show()"
   ]
  },
  {
   "cell_type": "markdown",
   "metadata": {},
   "source": [
    "Furthering our visualization from above, we see how are model was able to predict profit margin by the number of products stocked in a store. The Mean Squared Error (MSE) value of 11.8 is relatively low considering we are only using one variable to predict profit margin. The positive coefficient in our linear model reinforces the positive relation we see visually."
   ]
  },
  {
   "cell_type": "code",
   "execution_count": 809,
   "metadata": {},
   "outputs": [
    {
     "name": "stdout",
     "output_type": "stream",
     "text": [
      "Intercept: -109.69388883375862\n",
      "Coefficients: [-1.47707154  0.81964542  0.02950342]\n",
      "Mean Squared Error: 8.714467271772126\n"
     ]
    }
   ],
   "source": [
    "#Using sklearn, we can construct a linear model of how profit margin can be predicted using other variables\n",
    "XTrain = stores[['Variable cost','Gross revenue', 'Number of products']]\n",
    "XTest = stores_unknown[['Variable cost','Gross revenue', 'Number of products']]\n",
    "YTrain = stores['Profit margin']\n",
    "YTest = stores_unknown['Profit margin']\n",
    "model = linear_model.LinearRegression()\n",
    "model.fit(XTrain, YTrain)\n",
    "print('Intercept:', model.intercept_)\n",
    "print('Coefficients:', model.coef_)\n",
    "YPred = model.predict(XTest)\n",
    "print('Mean Squared Error:', mean_squared_error(YTest, YPred)) "
   ]
  },
  {
   "cell_type": "markdown",
   "metadata": {},
   "source": [
    "Our MSE in this prediction is lower than our last model, reaching 8.71. This would be expected as we added more information to help our model predict profit margin. As reinforcement to our data visualization conducted earlier, Gross revenue and Number of products are positively correlated with Profit margin and variable cost is negatively correlated with profit margin (see coefficients). "
   ]
  },
  {
   "cell_type": "code",
   "execution_count": 810,
   "metadata": {},
   "outputs": [
    {
     "name": "stdout",
     "output_type": "stream",
     "text": [
      "Intercept: -156.91684332334563\n",
      "Coefficients: [-3.62481104  0.04037212]\n",
      "Mean Squared Error: 10.308448401728285\n"
     ]
    }
   ],
   "source": [
    "#Using sklearn, we can construct a linear model of how profit margin can be predicted using other variables\n",
    "#stores['State_num'] = stores['State_num'].astype('numeric') \n",
    "XTrain = stores[['Owned', 'Number of products']]\n",
    "XTest = stores_unknown[['Owned', 'Number of products']]\n",
    "YTrain = stores['Profit margin']\n",
    "YTest = stores_unknown['Profit margin']\n",
    "model = linear_model.LinearRegression()\n",
    "model.fit(XTrain, YTrain)\n",
    "print('Intercept:', model.intercept_)\n",
    "print('Coefficients:', model.coef_)\n",
    "YPred = model.predict(XTest)\n",
    "print('Mean Squared Error:', mean_squared_error(YTest, YPred))"
   ]
  },
  {
   "cell_type": "markdown",
   "metadata": {},
   "source": [
    "The MSE in this model was lower than that when we just used number of products. The coefficient corresponding to the $Owned$ variable is negative, indicating that when stores are Owned (have a boolean value of 1), they have lower profit margins. I would question this model's results as we have seen that $Owned$ stores have generally higher profit margins."
   ]
  },
  {
   "cell_type": "code",
   "execution_count": 811,
   "metadata": {},
   "outputs": [
    {
     "name": "stdout",
     "output_type": "stream",
     "text": [
      "Intercept: 22.67333109840775\n",
      "Coefficients: [ 1.4212384  -2.00789693 -1.41401858 -1.14561683]\n",
      "Mean Squared Error: 20.380998596608254\n"
     ]
    }
   ],
   "source": [
    "#Using sklearn, we can construct a linear model of how profit margin can be predicted using other variables\n",
    "#stores['State_num'] = stores['State_num'].astype('numeric') \n",
    "XTrain = stores[['Gross revenue', 'Variable cost', 'Fixed cost', 'Rental cost']]\n",
    "XTest = stores_unknown[['Gross revenue', 'Variable cost', 'Fixed cost', 'Rental cost']]\n",
    "YTrain = stores['Profit margin']\n",
    "YTest = stores_unknown['Profit margin']\n",
    "model = linear_model.LinearRegression()\n",
    "model.fit(XTrain, YTrain)\n",
    "print('Intercept:', model.intercept_)\n",
    "print('Coefficients:', model.coef_)\n",
    "YPred = model.predict(XTest)\n",
    "print('Mean Squared Error:', mean_squared_error(YTest, YPred))"
   ]
  },
  {
   "cell_type": "markdown",
   "metadata": {},
   "source": [
    "This model has a large MSE which is likely due to overfitting. As we know, profit margin can be derived from revenue and costs, so theoretically, this model would be very good at predicting the profit margins of the data it's trained on. Therefore, I believe it was overfit to the training data and could not perform well on the testing data."
   ]
  },
  {
   "cell_type": "markdown",
   "metadata": {},
   "source": [
    "### Decompose Seasonal Data"
   ]
  },
  {
   "cell_type": "code",
   "execution_count": 812,
   "metadata": {
    "scrolled": false
   },
   "outputs": [
    {
     "data": {
      "text/html": [
       "<div>\n",
       "<style scoped>\n",
       "    .dataframe tbody tr th:only-of-type {\n",
       "        vertical-align: middle;\n",
       "    }\n",
       "\n",
       "    .dataframe tbody tr th {\n",
       "        vertical-align: top;\n",
       "    }\n",
       "\n",
       "    .dataframe thead th {\n",
       "        text-align: right;\n",
       "    }\n",
       "</style>\n",
       "<table border=\"1\" class=\"dataframe\">\n",
       "  <thead>\n",
       "    <tr style=\"text-align: right;\">\n",
       "      <th></th>\n",
       "      <th>Months</th>\n",
       "      <th>Profit</th>\n",
       "    </tr>\n",
       "  </thead>\n",
       "  <tbody>\n",
       "    <tr>\n",
       "      <th>0</th>\n",
       "      <td>2019-01-31</td>\n",
       "      <td>2236.472710</td>\n",
       "    </tr>\n",
       "    <tr>\n",
       "      <th>1</th>\n",
       "      <td>2019-02-28</td>\n",
       "      <td>2587.055437</td>\n",
       "    </tr>\n",
       "    <tr>\n",
       "      <th>2</th>\n",
       "      <td>2019-03-31</td>\n",
       "      <td>3109.286336</td>\n",
       "    </tr>\n",
       "    <tr>\n",
       "      <th>3</th>\n",
       "      <td>2019-04-30</td>\n",
       "      <td>2379.929928</td>\n",
       "    </tr>\n",
       "    <tr>\n",
       "      <th>4</th>\n",
       "      <td>2019-05-31</td>\n",
       "      <td>2554.876622</td>\n",
       "    </tr>\n",
       "    <tr>\n",
       "      <th>5</th>\n",
       "      <td>2019-06-30</td>\n",
       "      <td>3018.994222</td>\n",
       "    </tr>\n",
       "    <tr>\n",
       "      <th>6</th>\n",
       "      <td>2019-07-31</td>\n",
       "      <td>2406.602839</td>\n",
       "    </tr>\n",
       "    <tr>\n",
       "      <th>7</th>\n",
       "      <td>2019-08-31</td>\n",
       "      <td>2676.069619</td>\n",
       "    </tr>\n",
       "    <tr>\n",
       "      <th>8</th>\n",
       "      <td>2019-09-30</td>\n",
       "      <td>3031.673177</td>\n",
       "    </tr>\n",
       "    <tr>\n",
       "      <th>9</th>\n",
       "      <td>2019-10-31</td>\n",
       "      <td>2504.222891</td>\n",
       "    </tr>\n",
       "    <tr>\n",
       "      <th>10</th>\n",
       "      <td>2019-11-30</td>\n",
       "      <td>2250.425474</td>\n",
       "    </tr>\n",
       "    <tr>\n",
       "      <th>11</th>\n",
       "      <td>2019-12-31</td>\n",
       "      <td>2958.838744</td>\n",
       "    </tr>\n",
       "  </tbody>\n",
       "</table>\n",
       "</div>"
      ],
      "text/plain": [
       "       Months       Profit\n",
       "0  2019-01-31  2236.472710\n",
       "1  2019-02-28  2587.055437\n",
       "2  2019-03-31  3109.286336\n",
       "3  2019-04-30  2379.929928\n",
       "4  2019-05-31  2554.876622\n",
       "5  2019-06-30  3018.994222\n",
       "6  2019-07-31  2406.602839\n",
       "7  2019-08-31  2676.069619\n",
       "8  2019-09-30  3031.673177\n",
       "9  2019-10-31  2504.222891\n",
       "10 2019-11-30  2250.425474\n",
       "11 2019-12-31  2958.838744"
      ]
     },
     "execution_count": 812,
     "metadata": {},
     "output_type": "execute_result"
    }
   ],
   "source": [
    "#create a purely numeric dataset\n",
    "from datetime import datetime\n",
    "initial_date = np.array('2019-01', 'M')\n",
    "months = initial_date + np.arange(12)\n",
    "month_revenue = []\n",
    "for i in range(12):\n",
    "    month_revenue.append(sum(stores[stores['Month']==i+1]['Gross revenue']))\n",
    "month_profit = []\n",
    "for i in range(12):\n",
    "    month_profit.append(sum(stores[stores['Month']==i+1]['profit']))\n",
    "months = pd.Series(pd.date_range('1/1/2019', freq='M', periods=12))\n",
    "seasonal_data = pd.DataFrame(\n",
    "{\n",
    "    'Months': months,\n",
    "    #'Revenue': month_revenue,\n",
    "    'Profit': month_profit\n",
    "})\n",
    "seasonal_data['Months'].to_string()\n",
    "seasonal_data"
   ]
  },
  {
   "cell_type": "code",
   "execution_count": 813,
   "metadata": {},
   "outputs": [
    {
     "data": {
      "text/plain": [
       "\"\\nseasonal_df = seasonal_decompose(seasonal_data, model='additive')\\nresult.plot()\\npyplot.show()\\n\""
      ]
     },
     "execution_count": 813,
     "metadata": {},
     "output_type": "execute_result"
    }
   ],
   "source": [
    "'''\n",
    "seasonal_df = seasonal_decompose(seasonal_data, model='additive')\n",
    "result.plot()\n",
    "pyplot.show()\n",
    "'''"
   ]
  },
  {
   "cell_type": "markdown",
   "metadata": {},
   "source": [
    "Note that I was going to seasonally decompose the data to strip seasonal trends from confounding the data. This would have allowed for a much more informative picture of the actual trend of profit over time. However, the dataset provided only provided data for one year. As described in its documentation, the seasonal_decompose() function needs at least two cycles of dates to return a model. The additive model, which we would have used represents the following model:\n",
    "$$Y_t = T_t+S_t+e_t$$ \n",
    "$$\\text{where }Y_t\\text{ is Profit Margin, }T_t\\text{ is the trend over time, }S_t\\text{ is Seasonal aspect, and }e_t\\text{ is the error over time}$$"
   ]
  },
  {
   "cell_type": "markdown",
   "metadata": {},
   "source": [
    "## Email to CEO"
   ]
  },
  {
   "cell_type": "markdown",
   "metadata": {},
   "source": [
    "Hello,\n",
    "\n",
    "I hope you are doing well. After analyzing the financial performance of our stores across the country, it is clear that there are many factors contributing to the success of our company, as well as ways in which we can improve. First, our Profit Margins are extremely strong, an average of 24.8x, while the rest of the retail industry usually achieves 1x - 4x Profit Margins. Unfortunately, there are many stores with signficantly lower profit margin than our average, and to boost the profitability of the company, we must increase the success of these locations or allocate our resources elsewhere.\n",
    "\n",
    "The performance of our stores appears to be seasonal, as Quarter 1 yielded substantially larger profit margins than the remaining three quarters. Additionally, consumers appear to be shopping in cylcical patterns, with heightened spending in the months of March, July, September, and December. Because of these two factors, I recommend that we increase both our staffing and our hours of operations in these designated time frames. These changes will increase variable costs, though as I explained above, signficant revenue increase will offset these costs.\n",
    "\n",
    "There are many characteristics that are consistently strong indicators of our stores’ success. Primarily, we can see that there are regional differences when looking at the profit margin of our stores by state. I would advise that we relocate some of our least profitable locations in Georgia and New Jersey to Texas or California, where our branches have outperformed our average store. Additionally, we should increase the number of products offered in each store. There is a moderately strong positive correlation between the number of products a store offers and its profit margin. Finally, it can be observed that stores that are owned generally have higher annual profit margins. Having said this, there must be further analysis conducted regarding this conclusion because of assumptions made about a proxy for rental cost for stores that are owned. There could be confounding variables linked to each of the characteristics that were provided in the dataset, which could be mitigated with better data.\n",
    "\n",
    "Going forward, it would be extremely helpful for the company to record the following to optimize our data analysis: \n",
    "* Multiple years of performance to create time-series data to identify change of profit margin at an individual store when other variables are altered, as well as create seasonally-decomposed models\n",
    "* Breakdown of Fixed costs (i.e. salaries, property taxes, etc.)\n",
    "* Breakdown of variable costs (i.e. COGS, utilities costs, etc.)\n",
    "* Breakdown of inventory (quantity and price)\n",
    "\n",
    "I hope that these findings prove to be useful in the upcoming year. Please let me know if any further data\n",
    "analysis needs to be conducted.\n",
    "\n",
    "Best regards,\n",
    "\n",
    "Harrison"
   ]
  }
 ],
 "metadata": {
  "kernelspec": {
   "display_name": "Python 3",
   "language": "python",
   "name": "python3"
  },
  "language_info": {
   "codemirror_mode": {
    "name": "ipython",
    "version": 3
   },
   "file_extension": ".py",
   "mimetype": "text/x-python",
   "name": "python",
   "nbconvert_exporter": "python",
   "pygments_lexer": "ipython3",
   "version": "3.8.3"
  }
 },
 "nbformat": 4,
 "nbformat_minor": 4
}
